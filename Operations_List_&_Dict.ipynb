{
  "nbformat": 4,
  "nbformat_minor": 0,
  "metadata": {
    "colab": {
      "name": "Operations List & Disct.ipynb",
      "provenance": [],
      "authorship_tag": "ABX9TyNDcxve1RKJuWihSmZ4uXDS"
    },
    "kernelspec": {
      "name": "python3",
      "display_name": "Python 3"
    },
    "language_info": {
      "name": "python"
    }
  },
  "cells": [
    {
      "cell_type": "code",
      "metadata": {
        "colab": {
          "base_uri": "https://localhost:8080/"
        },
        "id": "8jMuFUlw_Qnm",
        "outputId": "68dfe5ba-8b5e-48dc-a597-89ccd67fe056"
      },
      "source": [
        "s = (\"tony\",\"pony\",\"jony\")\n",
        "s"
      ],
      "execution_count": 1,
      "outputs": [
        {
          "output_type": "execute_result",
          "data": {
            "text/plain": [
              "('tony', 'pony', 'jony')"
            ]
          },
          "metadata": {},
          "execution_count": 1
        }
      ]
    },
    {
      "cell_type": "code",
      "metadata": {
        "colab": {
          "base_uri": "https://localhost:8080/"
        },
        "id": "_HvdNxEs_fbJ",
        "outputId": "94ae92c6-f24a-4237-bea1-06c77cf572e1"
      },
      "source": [
        "s.count(\"tony\")\n",
        "s.index(\"tony\")\n"
      ],
      "execution_count": 7,
      "outputs": [
        {
          "output_type": "execute_result",
          "data": {
            "text/plain": [
              "0"
            ]
          },
          "metadata": {},
          "execution_count": 7
        }
      ]
    },
    {
      "cell_type": "code",
      "metadata": {
        "colab": {
          "base_uri": "https://localhost:8080/"
        },
        "id": "8N0tCDAE__ZW",
        "outputId": "75a7582e-6eaa-44ed-a910-321b10867652"
      },
      "source": [
        "d = {\"Name\" : \"Jony D\",\"Age\" : 69,\"Employer\": \"blue diamond\"}\n",
        "d"
      ],
      "execution_count": 10,
      "outputs": [
        {
          "output_type": "execute_result",
          "data": {
            "text/plain": [
              "{'Age': 69, 'Employer': 'blue diamond', 'Name': 'Jony D'}"
            ]
          },
          "metadata": {},
          "execution_count": 10
        }
      ]
    },
    {
      "cell_type": "code",
      "metadata": {
        "colab": {
          "base_uri": "https://localhost:8080/"
        },
        "id": "PjZ8-qi3Akc8",
        "outputId": "697a2459-275a-4d9a-8027-3e3e423aa69d"
      },
      "source": [
        "d.items()"
      ],
      "execution_count": 13,
      "outputs": [
        {
          "output_type": "execute_result",
          "data": {
            "text/plain": [
              "dict_items([('Name', 'Jony D'), ('Age', 69), ('Employer', 'blue diamond')])"
            ]
          },
          "metadata": {},
          "execution_count": 13
        }
      ]
    },
    {
      "cell_type": "code",
      "metadata": {
        "colab": {
          "base_uri": "https://localhost:8080/",
          "height": 35
        },
        "id": "h3u0WapjAdRA",
        "outputId": "dc0c8af3-f100-42e8-8103-82c86dfc1516"
      },
      "source": [
        "d.get(\"Name\")"
      ],
      "execution_count": 11,
      "outputs": [
        {
          "output_type": "execute_result",
          "data": {
            "application/vnd.google.colaboratory.intrinsic+json": {
              "type": "string"
            },
            "text/plain": [
              "'Jony D'"
            ]
          },
          "metadata": {},
          "execution_count": 11
        }
      ]
    },
    {
      "cell_type": "code",
      "metadata": {
        "colab": {
          "base_uri": "https://localhost:8080/"
        },
        "id": "dqpm9UwzArGQ",
        "outputId": "7cf4dc6c-f3d9-4df5-951b-2128ead84303"
      },
      "source": [
        "d.values()"
      ],
      "execution_count": 14,
      "outputs": [
        {
          "output_type": "execute_result",
          "data": {
            "text/plain": [
              "dict_values(['Jony D', 69, 'blue diamond'])"
            ]
          },
          "metadata": {},
          "execution_count": 14
        }
      ]
    },
    {
      "cell_type": "code",
      "metadata": {
        "colab": {
          "base_uri": "https://localhost:8080/"
        },
        "id": "0kTrCUz0AyKM",
        "outputId": "b7df4d2c-5c85-45df-cac4-8b0ee484ed52"
      },
      "source": [
        "d.update({\"Age\": 70})\n",
        "d.values()"
      ],
      "execution_count": 44,
      "outputs": [
        {
          "output_type": "execute_result",
          "data": {
            "text/plain": [
              "dict_values(['Jony D', 70, 'blue diamond'])"
            ]
          },
          "metadata": {},
          "execution_count": 44
        }
      ]
    },
    {
      "cell_type": "code",
      "metadata": {
        "colab": {
          "base_uri": "https://localhost:8080/"
        },
        "id": "77QOtmRYE_9k",
        "outputId": "09b17e9c-6879-4c98-cadc-6edd3e208cfc"
      },
      "source": [
        "d1 = d.copy()\n",
        "d1"
      ],
      "execution_count": 40,
      "outputs": [
        {
          "output_type": "execute_result",
          "data": {
            "text/plain": [
              "{'Age': 70, 'Employer': 'blue diamond', 'Name': 'Jony D'}"
            ]
          },
          "metadata": {},
          "execution_count": 40
        }
      ]
    },
    {
      "cell_type": "code",
      "metadata": {
        "colab": {
          "base_uri": "https://localhost:8080/"
        },
        "id": "A-zo6ZRkFXlU",
        "outputId": "23aeba2a-a0bc-4c76-f766-3cd4fe8504bf"
      },
      "source": [
        "d1.update({\"Age\" : 65, \"Employer\": \"Bradman\", \"Name\" : \"Kali Desouza\"})\n",
        "d1.values()"
      ],
      "execution_count": 42,
      "outputs": [
        {
          "output_type": "execute_result",
          "data": {
            "text/plain": [
              "dict_values(['Kali Desouza', 65, 'Bradman'])"
            ]
          },
          "metadata": {},
          "execution_count": 42
        }
      ]
    },
    {
      "cell_type": "code",
      "metadata": {
        "colab": {
          "base_uri": "https://localhost:8080/"
        },
        "id": "rRlUT2wLF_Eq",
        "outputId": "f9a15d19-8638-45ed-a773-8a21d6e0db8b"
      },
      "source": [
        "d1.clear()\n",
        "d1\n"
      ],
      "execution_count": 45,
      "outputs": [
        {
          "output_type": "execute_result",
          "data": {
            "text/plain": [
              "{}"
            ]
          },
          "metadata": {},
          "execution_count": 45
        }
      ]
    }
  ]
}