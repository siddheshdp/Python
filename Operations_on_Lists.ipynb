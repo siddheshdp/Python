{
  "nbformat": 4,
  "nbformat_minor": 0,
  "metadata": {
    "kernelspec": {
      "display_name": "Python 3",
      "language": "python",
      "name": "python3"
    },
    "language_info": {
      "codemirror_mode": {
        "name": "ipython",
        "version": 3
      },
      "file_extension": ".py",
      "mimetype": "text/x-python",
      "name": "python",
      "nbconvert_exporter": "python",
      "pygments_lexer": "ipython3",
      "version": "3.7.6"
    },
    "colab": {
      "name": "Operations on Lists.ipynb",
      "provenance": []
    }
  },
  "cells": [
    {
      "cell_type": "code",
      "metadata": {
        "id": "HZlWBK1T_I8x"
      },
      "source": [
        "s =[\"apple\",\"banana\",\"cherry\"]"
      ],
      "execution_count": null,
      "outputs": []
    },
    {
      "cell_type": "code",
      "metadata": {
        "id": "T5m1cTan_I85",
        "outputId": "d292377d-5e8e-45a9-8c42-d7e85c63c094"
      },
      "source": [
        "s.append(\"Cauliflower\")\n",
        "print(s)"
      ],
      "execution_count": null,
      "outputs": [
        {
          "name": "stdout",
          "output_type": "stream",
          "text": [
            "['apple', 'banana', 'cherry', 'Cauliflower']\n"
          ]
        }
      ]
    },
    {
      "cell_type": "code",
      "metadata": {
        "id": "kVnxA6JU_I89",
        "outputId": "ad3836ac-7dc0-45a1-cd80-e8a38eea6ac3"
      },
      "source": [
        "s.insert(0,\"brinjal\")\n",
        "print(s)"
      ],
      "execution_count": null,
      "outputs": [
        {
          "name": "stdout",
          "output_type": "stream",
          "text": [
            "['brinjal', 'apple', 'banana', 'cherry', 'Cauliflower']\n"
          ]
        }
      ]
    },
    {
      "cell_type": "code",
      "metadata": {
        "id": "gloOIuNk_I89",
        "outputId": "557a14c4-d884-4e8b-b964-faf9cb41aada"
      },
      "source": [
        "s.remove(\"brinjal\")\n",
        "print(s)"
      ],
      "execution_count": null,
      "outputs": [
        {
          "name": "stdout",
          "output_type": "stream",
          "text": [
            "['apple', 'banana', 'cherry', 'Cauliflower']\n"
          ]
        }
      ]
    },
    {
      "cell_type": "code",
      "metadata": {
        "id": "x8UcVqBj_I8-",
        "outputId": "2557101d-c6b2-44ff-b381-7cc835cc07e5"
      },
      "source": [
        "s.pop()\n",
        "print(s)"
      ],
      "execution_count": null,
      "outputs": [
        {
          "name": "stdout",
          "output_type": "stream",
          "text": [
            "['apple', 'banana', 'cherry']\n"
          ]
        }
      ]
    },
    {
      "cell_type": "code",
      "metadata": {
        "id": "jqsnzIrs_I8-",
        "outputId": "0efafbc8-e501-4acf-a83e-f1e31b4ea4e1"
      },
      "source": [
        "scopy=s.copy()\n",
        "print(scopy)"
      ],
      "execution_count": null,
      "outputs": [
        {
          "name": "stdout",
          "output_type": "stream",
          "text": [
            "['apple', 'banana', 'cherry']\n"
          ]
        }
      ]
    },
    {
      "cell_type": "code",
      "metadata": {
        "id": "HYZxdrvH_I8_",
        "outputId": "eb5d37e6-e8bd-4164-949e-0e6361192061"
      },
      "source": [
        "scopy.clear()\n",
        "print(scopy)"
      ],
      "execution_count": null,
      "outputs": [
        {
          "name": "stdout",
          "output_type": "stream",
          "text": [
            "[]\n"
          ]
        }
      ]
    },
    {
      "cell_type": "code",
      "metadata": {
        "id": "Bml5uoTo_I9A",
        "outputId": "d44daf11-46af-4ab5-a1bc-302ed6453d0e"
      },
      "source": [
        "s.reverse()\n",
        "print(s)"
      ],
      "execution_count": null,
      "outputs": [
        {
          "name": "stdout",
          "output_type": "stream",
          "text": [
            "['cherry', 'banana', 'apple']\n"
          ]
        }
      ]
    },
    {
      "cell_type": "code",
      "metadata": {
        "id": "5Pc5dTYW_I9A",
        "outputId": "43ca6fd8-86a3-4bc3-a1b0-420abd2f5aad"
      },
      "source": [
        "s.count('apple')"
      ],
      "execution_count": null,
      "outputs": [
        {
          "data": {
            "text/plain": [
              "1"
            ]
          },
          "execution_count": 21,
          "metadata": {},
          "output_type": "execute_result"
        }
      ]
    },
    {
      "cell_type": "code",
      "metadata": {
        "id": "pF4M5aAV_I9B",
        "outputId": "5eebc496-4aeb-4169-dfda-9ea49bee331c"
      },
      "source": [
        "s1=[3,8]\n",
        "s.extend(s1)\n",
        "print(s)"
      ],
      "execution_count": null,
      "outputs": [
        {
          "name": "stdout",
          "output_type": "stream",
          "text": [
            "['cherry', 'banana', 'apple', 3, 8]\n"
          ]
        }
      ]
    },
    {
      "cell_type": "code",
      "metadata": {
        "id": "vsIp-rb7_I9C",
        "outputId": "37ee0453-b302-4932-a62d-7eab7ee17f0f"
      },
      "source": [
        "s=[\"apple\",\"banana\",\"cherry\"]\n",
        "s.sort()\n",
        "print(s)"
      ],
      "execution_count": null,
      "outputs": [
        {
          "name": "stdout",
          "output_type": "stream",
          "text": [
            "['apple', 'banana', 'cherry']\n"
          ]
        }
      ]
    },
    {
      "cell_type": "code",
      "metadata": {
        "id": "a7i6TH24_I9C",
        "outputId": "fcee7631-f342-4c66-fbc9-0cfaf64b7ac1"
      },
      "source": [
        "a=[4,7,2,9,0]\n",
        "a.sort()\n",
        "print(a)"
      ],
      "execution_count": null,
      "outputs": [
        {
          "name": "stdout",
          "output_type": "stream",
          "text": [
            "[0, 2, 4, 7, 9]\n"
          ]
        }
      ]
    },
    {
      "cell_type": "code",
      "metadata": {
        "id": "igIzdHJF_I9D"
      },
      "source": [
        ""
      ],
      "execution_count": null,
      "outputs": []
    }
  ]
}