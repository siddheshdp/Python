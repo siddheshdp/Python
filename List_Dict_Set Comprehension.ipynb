{
  "nbformat": 4,
  "nbformat_minor": 0,
  "metadata": {
    "colab": {
      "name": "Untitled4.ipynb",
      "provenance": [],
      "authorship_tag": "ABX9TyMuAp8XtxG6w9/XVgpLC3z6"
    },
    "kernelspec": {
      "name": "python3",
      "display_name": "Python 3"
    },
    "language_info": {
      "name": "python"
    }
  },
  "cells": [
    {
      "cell_type": "code",
      "metadata": {
        "colab": {
          "base_uri": "https://localhost:8080/"
        },
        "id": "DIt17yplGtFB",
        "outputId": "4905dc3d-282c-4870-c5e0-f520fd09c401"
      },
      "source": [
        "list=[1,2,3,4,5]\n",
        "squared_list=[val**2 for val in list]\n",
        "squared_list"
      ],
      "execution_count": 2,
      "outputs": [
        {
          "output_type": "execute_result",
          "data": {
            "text/plain": [
              "[1, 4, 9, 16, 25]"
            ]
          },
          "metadata": {},
          "execution_count": 2
        }
      ]
    },
    {
      "cell_type": "code",
      "metadata": {
        "colab": {
          "base_uri": "https://localhost:8080/"
        },
        "id": "76l0w1g4HKiO",
        "outputId": "9b98ece8-2cf2-4c89-e8a4-7dcaa7a6bbac"
      },
      "source": [
        "list=[4,6,8,1,4,5,9]\n",
        "cube_list=[val**3 for val in list]\n",
        "cube_list.sort()\n",
        "cube_list"
      ],
      "execution_count": 11,
      "outputs": [
        {
          "output_type": "execute_result",
          "data": {
            "text/plain": [
              "[1, 64, 64, 125, 216, 512, 729]"
            ]
          },
          "metadata": {},
          "execution_count": 11
        }
      ]
    },
    {
      "cell_type": "code",
      "metadata": {
        "colab": {
          "base_uri": "https://localhost:8080/"
        },
        "id": "FAwOmvVEIMR8",
        "outputId": "4404da3f-5c72-4124-d266-f18ef24eaa03"
      },
      "source": [
        "dict = {\"Name\":\"John\",\"Age\":49,\"Sector\": \"IT\"}\n",
        "dict.clear()\n",
        "dict = {sum:(sum+sum)**2 for sum in range(1,20)}\n",
        "dict"
      ],
      "execution_count": 20,
      "outputs": [
        {
          "output_type": "execute_result",
          "data": {
            "text/plain": [
              "{1: 4,\n",
              " 2: 16,\n",
              " 3: 36,\n",
              " 4: 64,\n",
              " 5: 100,\n",
              " 6: 144,\n",
              " 7: 196,\n",
              " 8: 256,\n",
              " 9: 324,\n",
              " 10: 400,\n",
              " 11: 484,\n",
              " 12: 576,\n",
              " 13: 676,\n",
              " 14: 784,\n",
              " 15: 900,\n",
              " 16: 1024,\n",
              " 17: 1156,\n",
              " 18: 1296,\n",
              " 19: 1444}"
            ]
          },
          "metadata": {},
          "execution_count": 20
        }
      ]
    },
    {
      "cell_type": "code",
      "metadata": {
        "colab": {
          "base_uri": "https://localhost:8080/"
        },
        "id": "OlwXZ6h5Jh1a",
        "outputId": "8b3335ef-a2b1-4688-a17d-d6c1b6e15b72"
      },
      "source": [
        "s = {x for x in range(1,31)}\n",
        "s"
      ],
      "execution_count": 22,
      "outputs": [
        {
          "output_type": "execute_result",
          "data": {
            "text/plain": [
              "{1,\n",
              " 2,\n",
              " 3,\n",
              " 4,\n",
              " 5,\n",
              " 6,\n",
              " 7,\n",
              " 8,\n",
              " 9,\n",
              " 10,\n",
              " 11,\n",
              " 12,\n",
              " 13,\n",
              " 14,\n",
              " 15,\n",
              " 16,\n",
              " 17,\n",
              " 18,\n",
              " 19,\n",
              " 20,\n",
              " 21,\n",
              " 22,\n",
              " 23,\n",
              " 24,\n",
              " 25,\n",
              " 26,\n",
              " 27,\n",
              " 28,\n",
              " 29,\n",
              " 30}"
            ]
          },
          "metadata": {},
          "execution_count": 22
        }
      ]
    }
  ]
}